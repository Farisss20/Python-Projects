{
 "cells": [
  {
   "cell_type": "markdown",
   "id": "b8873c23",
   "metadata": {},
   "source": [
    "# Question 1"
   ]
  },
  {
   "cell_type": "code",
   "execution_count": 39,
   "id": "bd2ff27d",
   "metadata": {},
   "outputs": [
    {
     "name": "stdout",
     "output_type": "stream",
     "text": [
      "[[1.        ]\n",
      " [0.01831564]]\n"
     ]
    },
    {
     "data": {
      "image/png": "[encoded data removed]",
      "text/plain": [
       "<Figure size 640x480 with 1 Axes>"
      ]
     },
     "metadata": {},
     "output_type": "display_data"
    }
   ],
   "source": [
    "from matplotlib import pyplot as plt\n",
    "import numpy as np\n",
    "import scipy as sc\n",
    "\n",
    "def dydt(y,t):  #define the funtion of dy/dt\n",
    "    return (-2*y*t)\n",
    "\n",
    "y0 = 1 #initial condition of y when t is 0\n",
    "\n",
    "start = 0\n",
    "end = 2\n",
    "t=np.linspace(start,end,end) #create the interval for t from 0 to 2\n",
    "\n",
    "y = sc.integrate.odeint (dydt, y0, t) #integrating the function\n",
    "print(y)\n",
    "#create the plot\n",
    "plt.plot(t,y, 'green')\n",
    "# Adding title and axis labels\n",
    "plt.xlabel('t from 0 to 2')\n",
    "plt.ylabel('y value')\n",
    "plt.title('graph of ODE for y when t is from 0 to 2')\n",
    "plt.show()"
   ]
  },
  {
   "cell_type": "code",
   "execution_count": 65,
   "id": "b39c3d90",
   "metadata": {},
   "outputs": [
    {
     "name": "stdout",
     "output_type": "stream",
     "text": [
      "[[1.        ]\n",
      " [0.01831564]]\n"
     ]
    }
   ],
   "source": [
    "from matplotlib import pyplot as plt\n",
    "import numpy as np\n",
    "import scipy as sc\n",
    "\n",
    "def dydt(y,t):  #define the funtion of dy/dt\n",
    "    return (-2*y*t)\n",
    "\n",
    "y0 = 1 #initial condition of y when t is 0\n",
    "\n",
    "start = 0\n",
    "end = 2\n",
    "t=np.linspace(start,end,end) #create the interval for t from 0 to 2\n",
    "\n",
    "y = sc.integrate.odeint (dydt, y0, t) #integrating the function\n",
    "print(y)\n"
   ]
  },
  {
   "cell_type": "markdown",
   "id": "46244138",
   "metadata": {},
   "source": [
    "# Question 2"
   ]
  },
  {
   "cell_type": "code",
   "execution_count": 76,
   "id": "9c1b1dda",
   "metadata": {},
   "outputs": [
    {
     "name": "stdout",
     "output_type": "stream",
     "text": [
      "[[2 4 6]\n",
      " [5 3 2]\n",
      " [7 8 9]]\n",
      "[[18]\n",
      " [13]\n",
      " [20]]\n",
      "[[ 12.83333333]\n",
      " [-29.16666667]\n",
      " [ 18.16666667]]\n"
     ]
    }
   ],
   "source": [
    "import numpy as np\n",
    "import scipy as sc\n",
    "\n",
    "# Define the coefficient matrix A\n",
    "A = np.array([[2, 4, 6],[5, 3, 2],[7, 8, 9]])\n",
    "print(A)\n",
    "\n",
    "# Define the coefficient matrix B\n",
    "B = np.array([[18], [13], [20]])\n",
    "print(B)\n",
    "\n",
    "# Calculate the inverse of A and multiply by b to find the solution vector\n",
    "C = sc.linalg.solve(A, B) #the linalg function is use to calculate the inverse of A to multiply with B\n",
    "print(C)"
   ]
  },
  {
   "cell_type": "markdown",
   "id": "4a80be7b",
   "metadata": {},
   "source": [
    "# Question 3"
   ]
  },
  {
   "cell_type": "code",
   "execution_count": 60,
   "id": "4ac75d57",
   "metadata": {},
   "outputs": [
    {
     "name": "stdout",
     "output_type": "stream",
     "text": [
      "please enter the days:20\n",
      "Please enter the valid number for the ranges\n",
      "please enter the days:1\n",
      "1\n"
     ]
    }
   ],
   "source": [
    "import requests\n",
    "\n",
    "def program():\n",
    "    api_url = \"https://api.open-meteo.com/v1/forecast?latitude=2.5&longitude=112.5&hourly=temperature_2m&timezone=Asia%2FSingapore&forecast_days=16\"\n",
    "    response = requests.get(api_url)\n",
    "    temperature_data = response.json()\n",
    "    \n",
    "    while True:\n",
    "            try:\n",
    "                day = int(input(\"please enter the days:\"))\n",
    "                if(day>16):\n",
    "                    print(\"Please enter the valid number for the ranges\")\n",
    "                    continue\n",
    "                else:\n",
    "                    print(day)\n",
    "                    break\n",
    "            except ValueError:\n",
    "                # Handle invalid input error\n",
    "                print(\"Error: Please enter a valid number.\")\n",
    "    \n",
    "    \n",
    "program()"
   ]
  },
  {
   "cell_type": "code",
   "execution_count": 61,
   "id": "7fd1ca5d",
   "metadata": {},
   "outputs": [
    {
     "name": "stdout",
     "output_type": "stream",
     "text": [
      "{'latitude': 2.375, 'longitude': 112.5, 'generationtime_ms': 0.012993812561035156, 'utc_offset_seconds': 28800, 'timezone': 'Asia/Singapore', 'timezone_abbreviation': '+08', 'elevation': 272.0, 'hourly_units': {'time': 'iso8601', 'temperature_2m': '°C'}, 'hourly': {'time': ['2024-01-11T00:00', '2024-01-11T01:00', '2024-01-11T02:00', '2024-01-11T03:00', '2024-01-11T04:00', '2024-01-11T05:00', '2024-01-11T06:00', '2024-01-11T07:00', '2024-01-11T08:00', '2024-01-11T09:00', '2024-01-11T10:00', '2024-01-11T11:00', '2024-01-11T12:00', '2024-01-11T13:00', '2024-01-11T14:00', '2024-01-11T15:00', '2024-01-11T16:00', '2024-01-11T17:00', '2024-01-11T18:00', '2024-01-11T19:00', '2024-01-11T20:00', '2024-01-11T21:00', '2024-01-11T22:00', '2024-01-11T23:00'], 'temperature_2m': [23.8, 23.5, 23.3, 23.2, 23.1, 23.1, 23.0, 23.0, 24.0, 25.5, 26.6, 27.4, 28.0, 28.1, 28.1, 28.0, 27.6, 26.7, 25.9, 25.2, 24.9, 24.6, 24.3, 24.1]}}\n"
     ]
    }
   ],
   "source": [
    "import requests\n",
    "\n",
    "def program():\n",
    "    api_url = \"https://api.open-meteo.com/v1/forecast?latitude=2.5&longitude=112.5&hourly=temperature_2m&timezone=Asia%2FSingapore&forecast_days=1\"\n",
    "    response = requests.get(api_url)\n",
    "    temperature_data = response.json()\n",
    "\n",
    "    print(temperature_data)\n",
    "program()"
   ]
  },
  {
   "cell_type": "code",
   "execution_count": null,
   "id": "6a3c81f9",
   "metadata": {},
   "outputs": [],
   "source": [
    "import requests\n",
    "from matplotlib import pyplot as plt\n",
    "\n",
    "def program():\n",
    "    api_url = \"https://api.open-meteo.com/v1/forecast?latitude=2.5&longitude=112.5&hourly=temperature_2m&timezone=Asia%2FSingapore&forecast_days=1\"\n",
    "    response = requests.get(api_url)\n",
    "    temperature_data = response.json()\n",
    "    \n",
    "    for item in temperature_data:\n",
    "        x = item[\"hourly_units\"]\n",
    "        y = item[\"temperature_2m\"]\n",
    "        \n",
    "plt.plot(x, y)\n",
    "\n"
   ]
  }
 ],
 "metadata": {
  "kernelspec": {
   "display_name": "Python 3 (ipykernel)",
   "language": "python",
   "name": "python3"
  },
  "language_info": {
   "codemirror_mode": {
    "name": "ipython",
    "version": 3
   },
   "file_extension": ".py",
   "mimetype": "text/x-python",
   "name": "python",
   "nbconvert_exporter": "python",
   "pygments_lexer": "ipython3",
   "version": "3.11.5"
  }
 },
 "nbformat": 4,
 "nbformat_minor": 5
}
