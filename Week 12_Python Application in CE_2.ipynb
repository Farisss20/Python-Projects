{
 "cells": [
  {
   "cell_type": "markdown",
   "id": "ca7b8af7",
   "metadata": {},
   "source": [
    "# Linear Algebra 1"
   ]
  },
  {
   "cell_type": "code",
   "execution_count": 1,
   "id": "bd361624",
   "metadata": {},
   "outputs": [
    {
     "name": "stdout",
     "output_type": "stream",
     "text": [
      "[[1 3 5]\n",
      " [2 5 1]\n",
      " [2 3 8]]\n"
     ]
    }
   ],
   "source": [
    "# Import necessary libraries\n",
    "import numpy as np\n",
    "import scipy as sc\n",
    "# Define the coefficient matrix A\n",
    "A = np.array([[1, 3, 5], [2, 5, 1], [2, 3, 8]])\n",
    "print(A)\n"
   ]
  },
  {
   "cell_type": "code",
   "execution_count": 2,
   "id": "0c148f3d",
   "metadata": {},
   "outputs": [
    {
     "name": "stdout",
     "output_type": "stream",
     "text": [
      "[[10]\n",
      " [ 8]\n",
      " [ 3]]\n"
     ]
    }
   ],
   "source": [
    "# Define the right-hand side vector b\n",
    "b = np.array([[10], [8], [3]])\n",
    "print(b)"
   ]
  },
  {
   "cell_type": "code",
   "execution_count": 3,
   "id": "dc2bea07",
   "metadata": {},
   "outputs": [
    {
     "name": "stdout",
     "output_type": "stream",
     "text": [
      "[[-9.28]\n",
      " [ 5.16]\n",
      " [ 0.76]]\n"
     ]
    }
   ],
   "source": [
    "# Calculate the inverse of A and multiply by b to find the solution vector\n",
    "C = sc.linalg.inv(A).dot(b) # linear algebra which calc inverse of matrix A times with matrix b\n",
    "print(C)"
   ]
  },
  {
   "cell_type": "code",
   "execution_count": 4,
   "id": "9beba7d7",
   "metadata": {},
   "outputs": [
    {
     "name": "stdout",
     "output_type": "stream",
     "text": [
      "[[-9.28]\n",
      " [ 5.16]\n",
      " [ 0.76]]\n"
     ]
    }
   ],
   "source": [
    "# Alternatively, use the solve function to find the solution vector directly\n",
    "D = sc.linalg.solve(A, b)\n",
    "print(D)"
   ]
  },
  {
   "cell_type": "markdown",
   "id": "220f28a8",
   "metadata": {},
   "source": [
    "# Linear Algebra 2"
   ]
  },
  {
   "cell_type": "code",
   "execution_count": 5,
   "id": "0b686062",
   "metadata": {},
   "outputs": [
    {
     "name": "stdout",
     "output_type": "stream",
     "text": [
      "[[3 2]\n",
      " [1 2]]\n"
     ]
    }
   ],
   "source": [
    "import numpy as np\n",
    "from scipy.linalg import solve\n",
    "# Coefficients matrix\n",
    "A = np.array([[3, 2], [1, 2]])\n",
    "print(A)"
   ]
  },
  {
   "cell_type": "code",
   "execution_count": 6,
   "id": "51f43a86",
   "metadata": {},
   "outputs": [
    {
     "name": "stdout",
     "output_type": "stream",
     "text": [
      "[1 0]\n"
     ]
    }
   ],
   "source": [
    "# Constants vector\n",
    "b = np.array([1, 0])\n",
    "print(b)"
   ]
  },
  {
   "cell_type": "code",
   "execution_count": 7,
   "id": "f8038bbe",
   "metadata": {},
   "outputs": [
    {
     "name": "stdout",
     "output_type": "stream",
     "text": [
      "[ 0.5  -0.25]\n"
     ]
    }
   ],
   "source": [
    "# Using the solve function to find the solution to the system of equations\n",
    "solution = solve(A, b)\n",
    "print(solution)\n"
   ]
  },
  {
   "cell_type": "markdown",
   "id": "496220db",
   "metadata": {},
   "source": [
    "# Runge-Kutta method"
   ]
  },
  {
   "cell_type": "code",
   "execution_count": null,
   "id": "88a797ec",
   "metadata": {},
   "outputs": [],
   "source": []
  }
 ],
 "metadata": {
  "kernelspec": {
   "display_name": "Python 3 (ipykernel)",
   "language": "python",
   "name": "python3"
  },
  "language_info": {
   "codemirror_mode": {
    "name": "ipython",
    "version": 3
   },
   "file_extension": ".py",
   "mimetype": "text/x-python",
   "name": "python",
   "nbconvert_exporter": "python",
   "pygments_lexer": "ipython3",
   "version": "3.11.5"
  }
 },
 "nbformat": 4,
 "nbformat_minor": 5
}
