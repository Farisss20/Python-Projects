{
 "cells": [
  {
   "cell_type": "code",
   "execution_count": 17,
   "id": "a9e64b48",
   "metadata": {},
   "outputs": [
    {
     "name": "stdout",
     "output_type": "stream",
     "text": [
      "Checkout Process by: Sarah Connor\n",
      "Books being checked out:\n",
      "- 1984\n",
      "- Brave New World\n",
      "Checkout duration: 3 weeks\n",
      "Additional Checkout Details:\n",
      "- Late fee:$ 0.25\n",
      "- Renewals Allowed: 2\n",
      "Special Conditions for Checkout:\n",
      "- Handle with care\n"
     ]
    }
   ],
   "source": [
    "def checkout_books(librarian_name, *book_titles, duration='3 weeks', **kwargs):\n",
    "    print(\"Checkout Process by: \" + librarian_name)\n",
    "\n",
    "    print(\"Books being checked out:\")\n",
    "    for title in book_titles:\n",
    "        print(\"- \" + title)\n",
    "\n",
    "    print(\"Checkout duration: \" + duration)\n",
    "    print(\"Additional Checkout Details:\")\n",
    "\n",
    "    if 'late_fee' in kwargs:\n",
    "        late_fee = kwargs['late_fee']\n",
    "        print(\"- Late fee:$\", late_fee)\n",
    "\n",
    "    if 'renewal_allowed' in kwargs:\n",
    "        print(\"- Renewals Allowed:\", kwargs['renewal_allowed'])\n",
    "\n",
    "    if 'special_conditions' in kwargs:\n",
    "        special_conditions = kwargs['special_conditions']\n",
    "        print(\"Special Conditions for Checkout:\\n- \" + special_conditions)\n",
    "\n",
    "\n",
    "checkout_books('Sarah Connor', '1984', 'Brave New World', duration='3 weeks', late_fee=0.25, renewal_allowed=2, special_conditions='Handle with care')"
   ]
  },
  {
   "cell_type": "code",
   "execution_count": null,
   "id": "f1e07f72",
   "metadata": {},
   "outputs": [],
   "source": []
  }
 ],
 "metadata": {
  "kernelspec": {
   "display_name": "Python 3 (ipykernel)",
   "language": "python",
   "name": "python3"
  },
  "language_info": {
   "codemirror_mode": {
    "name": "ipython",
    "version": 3
   },
   "file_extension": ".py",
   "mimetype": "text/x-python",
   "name": "python",
   "nbconvert_exporter": "python",
   "pygments_lexer": "ipython3",
   "version": "3.11.5"
  }
 },
 "nbformat": 4,
 "nbformat_minor": 5
}
