{
 "cells": [
  {
   "cell_type": "code",
   "execution_count": 19,
   "id": "9d3d4628",
   "metadata": {},
   "outputs": [
    {
     "name": "stdout",
     "output_type": "stream",
     "text": [
      "Checkout process by: Sarah Connor\n",
      "Books being checked out:\n",
      "- 1984\n",
      "- Brave New World\n",
      "\n",
      "Additional Checkout Details: \n",
      "Checkout duration: 2 weeks\n",
      "- Late fee per day: $0.25\n",
      "- Renewal Allowed: 2\n",
      "Special conditions for Checkout: \n",
      "- Handle with care\n"
     ]
    }
   ],
   "source": [
    "def checkout_books (librarian_name, *book_titles, duration='2 weeks', **kwargs):\n",
    "\n",
    "    print(f\"Checkout process by: {librarian_name}\")\n",
    "    \n",
    "    if not book_titles:\n",
    "        print(\"No books selected for checkout.\")\n",
    "        return\n",
    "\n",
    "    print (\"Books being checked out:\")\n",
    "    for title in book_titles:\n",
    "        print(f\"- {title}\")\n",
    "    \n",
    "    print(f\"\\nAdditional Checkout Details: \")\n",
    "    print(f\"Checkout duration: {duration}\")\n",
    "    \n",
    "    if 'late_fee' in kwargs:\n",
    "        late_fee = kwargs['late_fee']\n",
    "        print (f\"- Late fee per day: ${late_fee}\")\n",
    "        \n",
    "    if 'renewal_allowed' in kwargs:\n",
    "        print(f\"- Renewal Allowed: {kwargs['renewal_allowed']}\")\n",
    "        \n",
    "    if 'special_conditions' in kwargs:\n",
    "        special_conditions = kwargs['special_conditions']\n",
    "        print(f\"Special conditions for Checkout: \\n- {special_conditions}\")\n",
    "        \n",
    "    \n",
    "checkout_books ('Sarah Connor', '1984', 'Brave New World', duration='2 weeks', late_fee=0.25, renewal_allowed=2, special_conditions='Handle with care')"
   ]
  }
 ],
 "metadata": {
  "kernelspec": {
   "display_name": "Python 3 (ipykernel)",
   "language": "python",
   "name": "python3"
  },
  "language_info": {
   "codemirror_mode": {
    "name": "ipython",
    "version": 3
   },
   "file_extension": ".py",
   "mimetype": "text/x-python",
   "name": "python",
   "nbconvert_exporter": "python",
   "pygments_lexer": "ipython3",
   "version": "3.11.5"
  }
 },
 "nbformat": 4,
 "nbformat_minor": 5
}
