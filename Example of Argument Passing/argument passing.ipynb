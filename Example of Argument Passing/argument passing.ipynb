{
 "cells": [
  {
   "cell_type": "markdown",
   "id": "49803101",
   "metadata": {},
   "source": [
    "# Position Arguments\n"
   ]
  },
  {
   "cell_type": "code",
   "execution_count": 2,
   "id": "d1417c89",
   "metadata": {},
   "outputs": [
    {
     "name": "stdout",
     "output_type": "stream",
     "text": [
      "Alice is enrolled in Mathematics class.\n"
     ]
    }
   ],
   "source": [
    "def student_information(class_name, student_name):\n",
    "    # Display information about a student and their class.\n",
    "    print(student_name + \" is enrolled in \" + class_name + \" class.\")\n",
    "    \n",
    "# Positional arguments:\n",
    "student_information('Mathematics', 'Alice')\n"
   ]
  },
  {
   "cell_type": "markdown",
   "id": "244219e9",
   "metadata": {},
   "source": [
    "# Keyword Arguments"
   ]
  },
  {
   "cell_type": "code",
   "execution_count": 1,
   "id": "94046dd9",
   "metadata": {},
   "outputs": [
    {
     "name": "stdout",
     "output_type": "stream",
     "text": [
      "Alice is enrolled in Mathematics class.\n"
     ]
    }
   ],
   "source": [
    "def student_information(class_name, student_name):\n",
    "    # Display information about a student and their class.\n",
    "    print(student_name + \" is enrolled in \" + class_name + \" class.\")\n",
    "    \n",
    "# Keyword arguments:\n",
    "student_information(class_name='Mathematics', student_name='Alice')"
   ]
  },
  {
   "cell_type": "markdown",
   "id": "c4a5bf4c",
   "metadata": {},
   "source": [
    "# Default Arguments"
   ]
  },
  {
   "cell_type": "code",
   "execution_count": 6,
   "id": "186982f5",
   "metadata": {},
   "outputs": [
    {
     "name": "stdout",
     "output_type": "stream",
     "text": [
      "Student Name: Amirul\n",
      "Enrolled Course: chemical\n"
     ]
    }
   ],
   "source": [
    "def enroll_student(student_name, course='Introduction to Python'):\n",
    "    \n",
    "    # Enroll a student in a course with a default option.\n",
    "    print(\"Student Name: \" + student_name)\n",
    "    print(\"Enrolled Course: \" + course)\n",
    "    \n",
    "enroll_student('Amirul', 'chemical')"
   ]
  },
  {
   "cell_type": "markdown",
   "id": "7e488e6c",
   "metadata": {},
   "source": [
    "# Variable-Length Arguments"
   ]
  },
  {
   "cell_type": "code",
   "execution_count": 8,
   "id": "707103ab",
   "metadata": {},
   "outputs": [
    {
     "name": "stdout",
     "output_type": "stream",
     "text": [
      "Student: Emily\n",
      "Enrolled in:\n",
      "- Biology 101\n",
      "- Chemistry 101\n",
      "- Physics 101\n"
     ]
    }
   ],
   "source": [
    "def enroll_in_courses(student_name, *courses):\n",
    "    # Enroll a student in multiple courses.\n",
    "    print(\"Student: \" + student_name)\n",
    "    print(\"Enrolled in:\")\n",
    "    for course in courses:\n",
    "        print(\"- \" + course)\n",
    "\n",
    "enroll_in_courses('Emily', 'Biology 101', 'Chemistry 101', 'Physics 101')        "
   ]
  },
  {
   "cell_type": "code",
   "execution_count": 9,
   "id": "7df17b09",
   "metadata": {},
   "outputs": [
    {
     "name": "stdout",
     "output_type": "stream",
     "text": [
      "Enrolling Smith with the following details:\n",
      "- Course: Algebra II\n",
      "- Semester: One\n",
      "- Payment Method: Credit Card\n"
     ]
    }
   ],
   "source": [
    "def enroll_student(student_name, **details):\n",
    "     # Enroll a student with additional details.\n",
    "    print(\"Enrolling \" + student_name + \" with the following details:\")\n",
    "    for detail, value in details.items():\n",
    "        print(\"- \" + detail.replace('_', ' ').title() + \": \" + str(value))\n",
    "# Example of enrolling a student with additional details:\n",
    "enroll_student('Smith', course='Algebra II', semester='One', payment_method='Credit Card')\n"
   ]
  },
  {
   "cell_type": "code",
   "execution_count": 10,
   "id": "86de6ca7",
   "metadata": {},
   "outputs": [
    {
     "name": "stdout",
     "output_type": "stream",
     "text": [
      "Librarian John Doe is processing the checkout.\n",
      "Books checked out:\n",
      "- Book 1\n",
      "- Book 2\n",
      "Duration: 3 weeks\n",
      "Additional Information:\n",
      "- late_fee: 0.50 USD per day\n",
      "- special_conditions: Handle with care\n"
     ]
    }
   ],
   "source": [
    "def checkout_books(librarian_name, *book_titles, duration='2 weeks', **kwargs):\n",
    "    print(f\"Librarian {librarian_name} is processing the checkout.\")\n",
    "    print(f\"Books checked out:\")\n",
    "    for book in book_titles:\n",
    "        print(f\"- {book}\")\n",
    "\n",
    "    print(f\"Duration: {duration}\")\n",
    "\n",
    "    if kwargs:\n",
    "        print(\"Additional Information:\")\n",
    "        for key, value in kwargs.items():\n",
    "            print(f\"- {key}: {value}\")\n",
    "\n",
    "# Example usage:\n",
    "checkout_books('John Doe', 'Book 1', 'Book 2', duration='3 weeks', late_fee='0.50 USD per day', special_conditions='Handle with care')\n"
   ]
  },
  {
   "cell_type": "code",
   "execution_count": null,
   "id": "0a3f7d2c",
   "metadata": {},
   "outputs": [],
   "source": []
  }
 ],
 "metadata": {
  "kernelspec": {
   "display_name": "Python 3 (ipykernel)",
   "language": "python",
   "name": "python3"
  },
  "language_info": {
   "codemirror_mode": {
    "name": "ipython",
    "version": 3
   },
   "file_extension": ".py",
   "mimetype": "text/x-python",
   "name": "python",
   "nbconvert_exporter": "python",
   "pygments_lexer": "ipython3",
   "version": "3.11.5"
  }
 },
 "nbformat": 4,
 "nbformat_minor": 5
}
