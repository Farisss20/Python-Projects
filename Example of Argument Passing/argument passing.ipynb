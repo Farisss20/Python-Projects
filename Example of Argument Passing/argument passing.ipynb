{
 "cells": [
  {
   "cell_type": "markdown",
   "id": "bb5132f8",
   "metadata": {},
   "source": [
    "# Position Arguments\n"
   ]
  },
  {
   "cell_type": "code",
   "execution_count": null,
   "id": "b9519aeb",
   "metadata": {},
   "outputs": [],
   "source": []
  },
  {
   "cell_type": "markdown",
   "id": "450ea917",
   "metadata": {},
   "source": [
    "# Keyword ARgume"
   ]
  }
 ],
 "metadata": {
  "kernelspec": {
   "display_name": "Python 3 (ipykernel)",
   "language": "python",
   "name": "python3"
  },
  "language_info": {
   "codemirror_mode": {
    "name": "ipython",
    "version": 3
   },
   "file_extension": ".py",
   "mimetype": "text/x-python",
   "name": "python",
   "nbconvert_exporter": "python",
   "pygments_lexer": "ipython3",
   "version": "3.11.5"
  }
 },
 "nbformat": 4,
 "nbformat_minor": 5
}
