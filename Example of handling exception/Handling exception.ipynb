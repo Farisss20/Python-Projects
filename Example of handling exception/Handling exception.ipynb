{
 "cells": [
  {
   "cell_type": "code",
   "execution_count": 6,
   "id": "73d5537d",
   "metadata": {},
   "outputs": [
    {
     "name": "stdout",
     "output_type": "stream",
     "text": [
      "enter a number: 7\n"
     ]
    }
   ],
   "source": [
    "number = int(input(\"enter a number: \"))"
   ]
  },
  {
   "cell_type": "code",
   "execution_count": 3,
   "id": "8cb7bea0",
   "metadata": {},
   "outputs": [
    {
     "name": "stdout",
     "output_type": "stream",
     "text": [
      "Error, The data you input is not int\n"
     ]
    }
   ],
   "source": [
    "try:\n",
    "    x = \"2\" + 2\n",
    "except:\n",
    "    print(\"Error, The data you input is not int\")"
   ]
  },
  {
   "cell_type": "code",
   "execution_count": 2,
   "id": "ab4a9d07",
   "metadata": {},
   "outputs": [
    {
     "name": "stdout",
     "output_type": "stream",
     "text": [
      "Please enter a valid number: f\n",
      "Error\n"
     ]
    }
   ],
   "source": [
    "try:\n",
    "    number = int(input(\"Please enter a valid number: \"))\n",
    "except:\n",
    "    print(\"Error\")"
   ]
  },
  {
   "cell_type": "code",
   "execution_count": 13,
   "id": "88994587",
   "metadata": {},
   "outputs": [
    {
     "data": {
      "text/plain": [
       "3"
      ]
     },
     "execution_count": 13,
     "metadata": {},
     "output_type": "execute_result"
    }
   ],
   "source": [
    "my_list = [1,2,3]\n",
    "\n",
    "my_list[2]"
   ]
  },
  {
   "cell_type": "code",
   "execution_count": 8,
   "id": "7a351437",
   "metadata": {},
   "outputs": [
    {
     "name": "stdout",
     "output_type": "stream",
     "text": [
      "the value is exist\n"
     ]
    }
   ],
   "source": [
    "my_list = [1,2,3]\n",
    "try:\n",
    "    my_list[1]\n",
    "    print(\"the value is exist\")\n",
    "except:\n",
    "    print(\"the value is not exist\")"
   ]
  },
  {
   "cell_type": "code",
   "execution_count": 9,
   "id": "ebc86801",
   "metadata": {},
   "outputs": [
    {
     "name": "stdout",
     "output_type": "stream",
     "text": [
      "Enter a number: f\n",
      "That's not a number!\n"
     ]
    }
   ],
   "source": [
    "try:\n",
    "    number = int(input(\"Enter a number: \"))\n",
    "except:\n",
    "    print(\"That's not a number!\")\n"
   ]
  },
  {
   "cell_type": "code",
   "execution_count": 10,
   "id": "e5cbdfc8",
   "metadata": {},
   "outputs": [
    {
     "name": "stdout",
     "output_type": "stream",
     "text": [
      "Enter a number: 30\n",
      "You entered a number!\n",
      "This is executed no matter what!\n"
     ]
    }
   ],
   "source": [
    "try:\n",
    "    number = int(input(\"Enter a number: \"))\n",
    "except:\n",
    "    print(\"That's not a number!\")\n",
    "else:\n",
    "    print(\"You entered a number!\")\n",
    "finally:\n",
    "    print(\"This is executed no matter what!\")"
   ]
  },
  {
   "cell_type": "code",
   "execution_count": 24,
   "id": "91910c4c",
   "metadata": {},
   "outputs": [
    {
     "name": "stdout",
     "output_type": "stream",
     "text": [
      "Enter a number: 0\n",
      "Division by zero is not allowed.\n"
     ]
    }
   ],
   "source": [
    "try:\n",
    "    user_input = int(input(\"Enter a number: \"))\n",
    "    result = 1 / user_input\n",
    "    print(result)\n",
    "except ValueError:\n",
    "     print(\"Please enter a valid integer.\")\n",
    "except ZeroDivisionError:\n",
    "        print(\"Division by zero is not allowed.\")\n",
    "\n"
   ]
  },
  {
   "cell_type": "code",
   "execution_count": 17,
   "id": "9ce8c485",
   "metadata": {},
   "outputs": [
    {
     "name": "stdout",
     "output_type": "stream",
     "text": [
      "Enter the first number: 8\n",
      "Enter the second number: 0\n",
      "Enter the operation (+, -, *, /): /\n",
      "Error: Cannot divide by zero.\n",
      "Enter the first number: s\n",
      "Error: Please enter a valid number.\n",
      "Enter the first number: 8\n",
      "Enter the second number: 2\n",
      "Enter the operation (+, -, *, /): w\n",
      "Invalid operation. Please choose +, -, *, or /. \n",
      "Enter the first number: 5\n",
      "Enter the second number: 8\n",
      "Enter the operation (+, -, *, /): -\n",
      "The result is: -3\n"
     ]
    }
   ],
   "source": [
    "def simple_calculator():\n",
    "    while True:\n",
    "        try:\n",
    "            # Prompt the user to enter the first number\n",
    "            num1 = int(input(\"Enter the first number: \"))\n",
    "            \n",
    "            # Prompt the user to enter the second number\n",
    "            num2 = int(input(\"Enter the second number: \"))\n",
    "\n",
    "            # Prompt the user to enter the operation\n",
    "            operation = input(\"Enter the operation (+, -, *, /): \")\n",
    "\n",
    "            # Perform the chosen operation\n",
    "            if operation == \"+\":\n",
    "                result = num1 + num2\n",
    "            elif operation == \"-\":\n",
    "                result = num1 - num2\n",
    "            elif operation == \"*\":\n",
    "                result = num1 * num2\n",
    "            elif operation == \"/\":\n",
    "                result = num1 / num2\n",
    "            else:\n",
    "                print(\"Invalid operation. Please choose +, -, *, or /. \")\n",
    "                continue # to continue the loop to make sure the user enter the valid operation\n",
    "\n",
    "            # Display the result\n",
    "            print(f\"The result is:\", result)\n",
    "            break\n",
    "\n",
    "        except ValueError:\n",
    "            # Handle invalid input error\n",
    "            print(\"Error: Please enter a valid number.\")\n",
    "\n",
    "        except ZeroDivisionError:\n",
    "            # Handle division by zero error\n",
    "            print(\"Error: Cannot divide by zero.\")\n",
    "\n",
    "        except Exception as e:\n",
    "            # Handle any other type of eq error\n",
    "            print(f\"Error:\", e)\n",
    "\n",
    "simple_calculator()"
   ]
  },
  {
   "cell_type": "code",
   "execution_count": 25,
   "id": "b2539f07",
   "metadata": {},
   "outputs": [
    {
     "name": "stdout",
     "output_type": "stream",
     "text": [
      "Enter the first number: 2\n",
      "Enter the second number: 3\n",
      "Enter the operation (+, -, *, /): +\\\n",
      "Invalid operation. Please choose +, -, *, or /. \n",
      "Enter the first number: 2\n",
      "Enter the second number: 1\n",
      "Enter the operation (+, -, *, /): -\n",
      "The result is: 1\n"
     ]
    }
   ],
   "source": [
    "def simple_calculator():\n",
    "    while True:\n",
    "        try:\n",
    "            # Prompt the user to enter the first number\n",
    "            num1 = int(input(\"Enter the first number: \"))\n",
    "            \n",
    "            # Prompt the user to enter the second number\n",
    "            num2 = int(input(\"Enter the second number: \"))\n",
    "\n",
    "            # Prompt the user to enter the operation\n",
    "            operation = input(\"Enter the operation (+, -, *, /): \")\n",
    "\n",
    "            # Perform the chosen operation\n",
    "            if operation == \"+\":\n",
    "                result = num1 + num2\n",
    "            elif operation == \"-\":\n",
    "                result = num1 - num2\n",
    "            elif operation == \"*\":\n",
    "                result = num1 * num2\n",
    "            elif operation == \"/\":\n",
    "                result = num1 / num2\n",
    "            else:\n",
    "                print(\"Invalid operation. Please choose +, -, *, or /. \")\n",
    "                continue\n",
    "\n",
    "            # Display the result\n",
    "            print(\"The result is:\", result)\n",
    "            break\n",
    "\n",
    "        except ValueError:\n",
    "            # Handle invalid input error\n",
    "            print(\"Error: Please enter a valid number.\")\n",
    "\n",
    "        except ZeroDivisionError:\n",
    "            # Handle division by zero error\n",
    "            print(\"Error: Cannot divide by zero.\")\n",
    "\n",
    "        except Exception as e:\n",
    "            # Handle any other type of eq error\n",
    "            print(\"Error:\", e)\n",
    "\n",
    "simple_calculator() # To run the function"
   ]
  },
  {
   "cell_type": "code",
   "execution_count": null,
   "id": "5db6acfb",
   "metadata": {},
   "outputs": [],
   "source": []
  }
 ],
 "metadata": {
  "kernelspec": {
   "display_name": "Python 3 (ipykernel)",
   "language": "python",
   "name": "python3"
  },
  "language_info": {
   "codemirror_mode": {
    "name": "ipython",
    "version": 3
   },
   "file_extension": ".py",
   "mimetype": "text/x-python",
   "name": "python",
   "nbconvert_exporter": "python",
   "pygments_lexer": "ipython3",
   "version": "3.11.5"
  }
 },
 "nbformat": 4,
 "nbformat_minor": 5
}
