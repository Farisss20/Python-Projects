{
 "cells": [
  {
   "cell_type": "code",
   "execution_count": 1,
   "id": "8e37eaf1",
   "metadata": {},
   "outputs": [
    {
     "name": "stdout",
     "output_type": "stream",
     "text": [
      "enter a number: 6\n"
     ]
    }
   ],
   "source": [
    "number = int(input(\"enter a number: \"))"
   ]
  },
  {
   "cell_type": "code",
   "execution_count": 2,
   "id": "bbd15a10",
   "metadata": {},
   "outputs": [
    {
     "name": "stdout",
     "output_type": "stream",
     "text": [
      "Error, The data you input is not int\n"
     ]
    }
   ],
   "source": [
    "try:\n",
    "    x = \"2\" + 2\n",
    "except:\n",
    "    print(\"Error, The data you input is not int\")"
   ]
  },
  {
   "cell_type": "code",
   "execution_count": 4,
   "id": "52646482",
   "metadata": {},
   "outputs": [
    {
     "name": "stdout",
     "output_type": "stream",
     "text": [
      "Please enter a valid number: s\n",
      "Error\n"
     ]
    }
   ],
   "source": [
    "try:\n",
    "    number = int(input(\"Please enter a valid number: \"))\n",
    "except:\n",
    "    print(\"Error\")"
   ]
  },
  {
   "cell_type": "code",
   "execution_count": 5,
   "id": "95c50720",
   "metadata": {},
   "outputs": [
    {
     "data": {
      "text/plain": [
       "1"
      ]
     },
     "execution_count": 5,
     "metadata": {},
     "output_type": "execute_result"
    }
   ],
   "source": [
    "my_list = [1,2,3]\n",
    "\n",
    "my_list[0]"
   ]
  },
  {
   "cell_type": "code",
   "execution_count": 6,
   "id": "bc77f756",
   "metadata": {},
   "outputs": [
    {
     "name": "stdout",
     "output_type": "stream",
     "text": [
      "the value is not exist\n"
     ]
    }
   ],
   "source": [
    "my_list = [1,2,3]\n",
    "try:\n",
    "    my_list[10]\n",
    "    print(\"the value is exist\")\n",
    "except:\n",
    "    print(\"the value is not exist\")"
   ]
  },
  {
   "cell_type": "code",
   "execution_count": 7,
   "id": "277d09ee",
   "metadata": {},
   "outputs": [
    {
     "name": "stdout",
     "output_type": "stream",
     "text": [
      "Enter a number: s\n",
      "That's not a number!\n"
     ]
    }
   ],
   "source": [
    "try:\n",
    "    number = int(input(\"Enter a number: \"))\n",
    "except ValueError:\n",
    "    print(\"That's not a number!\")\n"
   ]
  },
  {
   "cell_type": "code",
   "execution_count": 9,
   "id": "030c887d",
   "metadata": {},
   "outputs": [
    {
     "name": "stdout",
     "output_type": "stream",
     "text": [
      "Enter a number: 2\n",
      "You entered a number!\n",
      "This is executed no matter what!\n"
     ]
    }
   ],
   "source": [
    "try:\n",
    "    number = int(input(\"Enter a number: \"))\n",
    "except ValueError:\n",
    "    print(\"That's not a number!\")\n",
    "else:\n",
    "    print(\"You entered a number!\")\n",
    "finally:\n",
    "    print(\"This is executed no matter what!\")"
   ]
  },
  {
   "cell_type": "code",
   "execution_count": 10,
   "id": "65cea9c1",
   "metadata": {},
   "outputs": [
    {
     "name": "stdout",
     "output_type": "stream",
     "text": [
      "Enter a number: 5\n",
      "0.2\n"
     ]
    }
   ],
   "source": [
    "try:\n",
    "    user_input = input(\"Enter a number: \")\n",
    "    result = 1 / int(user_input)\n",
    "    print(result)\n",
    "except ValueError:\n",
    "    print(\"Please enter a valid integer.\")\n",
    "except ZeroDivisionError:\n",
    "    print(\"Division by zero is not allowed.\")\n"
   ]
  },
  {
   "cell_type": "code",
   "execution_count": 11,
   "id": "590a94f9",
   "metadata": {},
   "outputs": [
    {
     "name": "stdout",
     "output_type": "stream",
     "text": [
      "Enter the first number: 5\n",
      "Enter the second number: 9\n",
      "Enter the operation (+, -, *, /): +\n",
      "The result is: 14\n"
     ]
    }
   ],
   "source": [
    "def simple_calculator():\n",
    "    while True:\n",
    "        try:\n",
    "            # Prompt the user to enter the first number\n",
    "            num1 = int(input(\"Enter the first number: \"))\n",
    "            \n",
    "            # Prompt the user to enter the second number\n",
    "            num2 = int(input(\"Enter the second number: \"))\n",
    "\n",
    "            # Prompt the user to enter the operation\n",
    "            operation = input(\"Enter the operation (+, -, *, /): \")\n",
    "\n",
    "            # Perform the chosen operation\n",
    "            if operation == \"+\":\n",
    "                result = num1 + num2\n",
    "            elif operation == \"-\":\n",
    "                result = num1 - num2\n",
    "            elif operation == \"*\":\n",
    "                result = num1 * num2\n",
    "            elif operation == \"/\":\n",
    "                result = num1 / num2\n",
    "            else:\n",
    "                print(\"Invalid operation. Please choose +, -, *, or /. \")\n",
    "                continue\n",
    "\n",
    "            # Display the result\n",
    "            print(f\"The result is:\", result)\n",
    "            break\n",
    "\n",
    "        except ValueError:\n",
    "            # Handle invalid input error\n",
    "            print(\"Error: Please enter a valid number.\")\n",
    "\n",
    "        except ZeroDivisionError:\n",
    "            # Handle division by zero error\n",
    "            print(\"Error: Cannot divide by zero.\")\n",
    "\n",
    "        except Exception as e:\n",
    "            # Handle any other type of eq error\n",
    "            print(f\"Error:\", e)\n",
    "\n",
    "simple_calculator()"
   ]
  },
  {
   "cell_type": "code",
   "execution_count": null,
   "id": "9d1d467c",
   "metadata": {},
   "outputs": [],
   "source": []
  }
 ],
 "metadata": {
  "kernelspec": {
   "display_name": "Python 3 (ipykernel)",
   "language": "python",
   "name": "python3"
  },
  "language_info": {
   "codemirror_mode": {
    "name": "ipython",
    "version": 3
   },
   "file_extension": ".py",
   "mimetype": "text/x-python",
   "name": "python",
   "nbconvert_exporter": "python",
   "pygments_lexer": "ipython3",
   "version": "3.11.5"
  }
 },
 "nbformat": 4,
 "nbformat_minor": 5
}
