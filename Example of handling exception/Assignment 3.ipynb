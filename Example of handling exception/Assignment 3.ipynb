{
 "cells": [
  {
   "cell_type": "code",
   "execution_count": null,
   "id": "2bb71cf6",
   "metadata": {},
   "outputs": [
    {
     "name": "stdout",
     "output_type": "stream",
     "text": [
      "Enter the first number: 8\n",
      "Enter the second number: 0\n"
     ]
    }
   ],
   "source": [
    "def simple_calculator():\n",
    "    while True:\n",
    "        try:\n",
    "            # Prompt the user to enter the first number\n",
    "            num1 = int(input(\"Enter the first number: \"))\n",
    "            \n",
    "            # Prompt the user to enter the second number\n",
    "            num2 = int(input(\"Enter the second number: \"))\n",
    "\n",
    "            # Prompt the user to enter the operation\n",
    "            operation = input(\"Enter the operation (+, -, *, /): \")\n",
    "\n",
    "            # Perform the chosen operation\n",
    "            if operation == \"+\":\n",
    "                result = num1 + num2\n",
    "            elif operation == \"-\":\n",
    "                result = num1 - num2\n",
    "            elif operation == \"*\":\n",
    "                result = num1 * num2\n",
    "            elif operation == \"/\":\n",
    "                result = num1 / num2\n",
    "            else:\n",
    "                print(\"Invalid operation. Please choose +, -, *, or /. \")\n",
    "                continue\n",
    "\n",
    "            # Display the result\n",
    "            print(f\"The result is:\", result)\n",
    "            break\n",
    "\n",
    "        except ValueError:\n",
    "            # Handle invalid input error\n",
    "            print(\"Error: Please enter a valid number.\")\n",
    "\n",
    "        except ZeroDivisionError:\n",
    "            # Handle division by zero error\n",
    "            print(\"Error: Cannot divide by zero.\")\n",
    "\n",
    "        except Exception as e:\n",
    "            # Handle any other type of eq error\n",
    "            print(f\"Error:\", e)\n",
    "\n",
    "simple_calculator()"
   ]
  },
  {
   "cell_type": "code",
   "execution_count": null,
   "id": "11702157",
   "metadata": {},
   "outputs": [],
   "source": []
  }
 ],
 "metadata": {
  "kernelspec": {
   "display_name": "Python 3 (ipykernel)",
   "language": "python",
   "name": "python3"
  },
  "language_info": {
   "codemirror_mode": {
    "name": "ipython",
    "version": 3
   },
   "file_extension": ".py",
   "mimetype": "text/x-python",
   "name": "python",
   "nbconvert_exporter": "python",
   "pygments_lexer": "ipython3",
   "version": "3.11.5"
  }
 },
 "nbformat": 4,
 "nbformat_minor": 5
}
